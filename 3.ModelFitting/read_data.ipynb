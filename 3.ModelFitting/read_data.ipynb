{
 "cells": [
  {
   "cell_type": "markdown",
   "metadata": {},
   "source": [
    "pandas: 데이터를 쉽고 유연하게 처리하기 위한 라이브러리입니다.\n",
    "\n",
    ".smiles2fing: SMILES 문자열들을 입력으로 받아 fingerprint로 바꿔주는 함수를 포함하고 있는 파이썬 파일입니다.\n",
    "- smiles2fing: 변환하지 못한 문자열들의 인덱스와, 그를 제외하고 변환에 성공해서 얻은 fingerprint들을 반환하는 함수입니다."
   ]
  },
  {
   "cell_type": "code",
   "execution_count": null,
   "metadata": {},
   "outputs": [],
   "source": [
    "import pandas as pd\n",
    "from .smiles2fing import smiles2fing"
   ]
  },
  {
   "cell_type": "markdown",
   "metadata": {},
   "source": [
    "load_data: 설정한 경로에 해당하는 엑셀 파일을 불러오고, 전처리와 타겟 변수를 반환하는 함수입니다.\n",
    "\n",
    "\n",
    "함수의 동작 과정은 아래와 같습니다.\n",
    "1. 함수의 입력으로 넣어준 경로(path, tg_num, inhale_type이 함께 경로를 구성)에 있는 엑셀 파일을 pandas 데이터프레임으로 변환하고, 이를 df 변수에 저장합니다.\n",
    "2. smiles2fing 함수(smiles2fing.ipynb 참조)를 통해 SMILES 형식의 데이터를 fingerprint 형식으로 바꿔주는 등의 전처리 과정을 수행합니다.\n",
    "    - 위 함수의 반환값으로, fingerprint로의 변환에 실패한 레코드들의 인덱스와 fingerprint 형식으로 변환된 이후의 데이터프레임을 반환합니다.\n",
    "\n",
    "3. df에서 fingerprint로의 변환에 실패한 친구들을 제외한 레코드들의 category열의 값을 가져와, y에 저장합니다.\n",
    "4. 결과적으로, fingerprint로의 변환에 성공한 레코드들만의 변환 이후 데이터프레임과 category열의 값들을 반환합니다.\n"
   ]
  },
  {
   "cell_type": "code",
   "execution_count": null,
   "metadata": {},
   "outputs": [],
   "source": [
    "def load_data(path: str, tg_num: int, inhale_type: str):\n",
    "    try:\n",
    "        df = pd.read_excel(f'{path}tg{tg_num}_{inhale_type}.xlsx')\n",
    "    except:\n",
    "        df = pd.read_excel(f'{path}/tg{tg_num}_{inhale_type}.xlsx')\n",
    "    \n",
    "    drop_idx, fingerprints = smiles2fing(df.SMILES)\n",
    "    \n",
    "    y = df.category.drop(drop_idx).reset_index(drop = True)\n",
    "    \n",
    "    return fingerprints, y"
   ]
  },
  {
   "cell_type": "markdown",
   "metadata": {},
   "source": [
    "multiclass2binary: catetory의 종류를 3개에서 2개로 줄여줍니다.\n",
    "- category열의 값으로 가능한 값들은 [0, 1, 2]입니다.\n",
    "- multi-classification이 아닌 binary classification을 위해서 category의 종류를 2개로 줄여줍니다.\n",
    "\n",
    "\n",
    "함수의 동작은 아래와 같습니다.\n",
    "1. 데이터의 tg_num이 403인 경우에는 아래와 같이 변환합니다.\n",
    "    1. y값이 0 또는 1이면, 1로 변환합니다.\n",
    "    2. y값이 2 이면, 0으로 변환합니다.\n",
    "\n",
    "2. 데이터의 tg_num이 403이 아닌 경우에는 아래와 같이 변환합니다.\n",
    "    1. y값이 0 이면, 1로 변환합니다.\n",
    "    2. y값이 1 또는 2이면, 0으로 변환합니다.\n",
    "\n",
    "3. 변환시킨 데이터 프레임을 반환합니다."
   ]
  },
  {
   "cell_type": "code",
   "execution_count": null,
   "metadata": {},
   "outputs": [],
   "source": [
    "def multiclass2binary(y, tg_num: int):\n",
    "    bin_y = y.copy()\n",
    "    \n",
    "    if tg_num == 403:\n",
    "        bin_y[y<2] = 1\n",
    "        bin_y[y>=2] = 0\n",
    "    \n",
    "    else:\n",
    "        bin_y[y<1] = 1\n",
    "        bin_y[y>=1] = 0\n",
    "    \n",
    "    return bin_y"
   ]
  },
  {
   "cell_type": "markdown",
   "metadata": {},
   "source": [
    "사용되지 않는 함수입니다."
   ]
  },
  {
   "cell_type": "code",
   "execution_count": null,
   "metadata": {},
   "outputs": [],
   "source": [
    "def load_pred_data():\n",
    "    df_tmp = pd.read_excel('pred_data.xlsx').drop_duplicates(subset = ('PREFERRED_NAME', 'SMILES'))\n",
    "    \n",
    "    # try:\n",
    "    #     df = pd.read_excel(f'{path}/pred_data.xlsx')\n",
    "    # except: \n",
    "    #     df = pd.read_excel(f'{path}pred_data.xlsx')\n",
    "    \n",
    "    df = df_tmp[df_tmp['SMILES'].notna()].reset_index(drop = True)\n",
    "    \n",
    "    drop_idx, fingerprints = smiles2fing(df.SMILES)\n",
    "    df = df.drop(drop_idx).reset_index(drop = True)\n",
    "    \n",
    "    return fingerprints, df, df_tmp"
   ]
  }
 ],
 "metadata": {
  "language_info": {
   "name": "python"
  },
  "orig_nbformat": 4
 },
 "nbformat": 4,
 "nbformat_minor": 2
}
