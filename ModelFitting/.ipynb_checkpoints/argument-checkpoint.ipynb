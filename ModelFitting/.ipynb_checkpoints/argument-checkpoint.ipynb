{
 "cells": [
  {
   "cell_type": "markdown",
   "metadata": {},
   "source": [
    "argparse는 terminal에서 입력한 인자를 파싱하기 위한 모듈입니다."
   ]
  },
  {
   "cell_type": "code",
   "execution_count": null,
   "metadata": {},
   "outputs": [],
   "source": [
    "import argparse"
   ]
  },
  {
   "cell_type": "markdown",
   "metadata": {},
   "source": [
    "get_parser() 함수는 terminal에서 입력한 인자를 파싱하기 위한 ArgumentParser 객체를 생성하고, \n",
    "여러 인자를 추가한 후, 해당 객체를 반환합니다.\n",
    "\n",
    "\n",
    "add_argument() 함수는 ArgumentParser 객체에 인자를 추가합니다.\n",
    "- 각 인자의 default값과 type을 정해둡니다.\n",
    "- default값이 정해져있기 때문에, 실행할 당시에 argument를 따로 넣어주지 않아도 파일이 정상적으로 작동합니다.\n",
    "\n",
    "\n",
    "이를 통해 추가되는 argument들은 아래와 같습니다.\n",
    "1. --tg_num: OECD test guideline number로 data 디렉터리 내에 있는 파일 중 하나를 선택하기 위한 인자입니다.\n",
    "2. --inhale_type: route of administration으로 vapour와 aerosol 중 하나를 선택하기 위한 인자입니다.\n",
    "3. --model: 사용할 모델을 선택하기 위한 인자입니다.\n",
    "4. --metric: 평가 지표를 선택하기 위한 인자입니다.\n",
    "5. --num_run: 반복 횟수를 선택하기 위한 인자입니다.\n",
    "6. --splitseed: 데이터 분할 시 사용할 시드를 선택하기 위한 인자입니다.\n",
    "7. --smoteseed: SMOTE 시 사용할 시드를 선택하기 위한 인자입니다.\n",
    "8. --neighbor: SMOTE 시 사용할 이웃 수를 선택하기 위한 인자입니다.\n",
    "9. --threshold: 이진 분류 시 사용할 임계값을 선택하기 위한 인자입니다."
   ]
  },
  {
   "cell_type": "code",
   "execution_count": null,
   "metadata": {},
   "outputs": [],
   "source": [
    "def get_parser():\n",
    "    \n",
    "    parser = argparse.ArgumentParser()\n",
    "    parser.add_argument('--tg_num', type = int, default = 403, help = 'oecd test guideline number (403, 412, 413)')\n",
    "    parser.add_argument('--inhale_type', type = str, default = 'vapour', help = 'route of administration (vapour, aerosol)')\n",
    "    parser.add_argument('--model', type = str, default = 'logistic', help = 'logistic, lda, qda, plsda, dt, rf, gbt, xgb, lgb, mlp')\n",
    "    parser.add_argument('--metric', type = str, default = 'f1', help = 'precision, recall, accuracy, f1, auc(only binary)')\n",
    "    parser.add_argument('--num_run', type = int, default = 10, help = 'the number of run')\n",
    "    parser.add_argument('--splitseed', type = int, default = 0)\n",
    "    parser.add_argument('--smoteseed', type = int, default = 42)\n",
    "    parser.add_argument('--neighbor', type = int, default = 5, help = 'the number of neighbors for SMOTE')\n",
    "    parser.add_argument('--threshold', type = float, default = .5)\n",
    "    \n",
    "    return parser"
   ]
  }
 ],
 "metadata": {
  "language_info": {
   "name": "python"
  },
  "orig_nbformat": 4
 },
 "nbformat": 4,
 "nbformat_minor": 2
}
